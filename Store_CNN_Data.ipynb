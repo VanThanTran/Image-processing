{
 "cells": [
  {
   "cell_type": "code",
   "execution_count": 5,
   "metadata": {},
   "outputs": [
    {
     "name": "stdout",
     "output_type": "stream",
     "text": [
      "Note: you may need to restart the kernel to use updated packages.\n"
     ]
    },
    {
     "name": "stderr",
     "output_type": "stream",
     "text": [
      "ERROR: Could not find a version that satisfies the requirement cv2 (from versions: none)\n",
      "ERROR: No matching distribution found for cv2\n"
     ]
    }
   ],
   "source": [
    "pip install cv2"
   ]
  },
  {
   "cell_type": "code",
   "execution_count": 7,
   "metadata": {
    "scrolled": true
   },
   "outputs": [],
   "source": [
    "import cv2\n",
    "import numpy as np\n",
    "import pandas as pd\n",
    "import sklearn\n",
    "from random import randint\n",
    "import matplotlib.pyplot as plt\n",
    "import os\n",
    "import SimpleITK as sitk\n",
    "import h5py\n",
    "from skimage.transform import resize, rescale\n",
    "from os import listdir\n",
    "from os.path import isfile, join\n",
    "from sklearn.model_selection import StratifiedKFold\n"
   ]
  },
  {
   "cell_type": "code",
   "execution_count": 8,
   "metadata": {
    "scrolled": true
   },
   "outputs": [],
   "source": [
    "mypath1 = 'D:/19_Papers/Database/test/light/'\n",
    "output_path = 'D:/19_Papers/Database/test/light1/'\n",
    "files1 = [f for f in listdir(mypath1) if isfile(join(mypath1, f))]\n",
    "\n",
    "##Read Input Image\n",
    "for fname1 in sorted(files1):\n",
    "    try:\n",
    "        itk_image = cv2.imread(mypath1+fname1)\n",
    "        image = np.asarray(itk_image)\n",
    "        image = resize(image, (224,224), preserve_range= np.int16, order=1)\n",
    "\n",
    "        image =np.asarray(image)\n",
    "        cv2.imwrite(output_path+\"{}\".format(fname1), image)\n",
    "            \n",
    "    except RuntimeError:\n",
    "        pass\n",
    "\n"
   ]
  },
  {
   "cell_type": "code",
   "execution_count": null,
   "metadata": {},
   "outputs": [],
   "source": [
    "mypath1 = 'D:/COPD/data/EX/cement_raw/'\n",
    "output_path = 'D:/COPD/data/IN/EX/'\n",
    "files1 = [f for f in listdir(mypath1) if isfile(join(mypath1, f))]\n",
    "\n",
    "##Read Input Image\n",
    "for fname1 in sorted(files1):\n",
    "    try:\n",
    "        itk_image = sitk.ReadImage(mypath1+fname1)\n",
    "        image = sitk.GetArrayFromImage(itk_image)\n",
    "        image = resize(image, (256,256,256), preserve_range= np.int16, order=1)\n",
    "\n",
    "        image = sitk.GetImageFromArray(image)\n",
    "        sitk.WriteImage(image,output_path+\"{}\".format(fname1))\n",
    "            \n",
    "    except RuntimeError:\n",
    "        pass"
   ]
  },
  {
   "cell_type": "code",
   "execution_count": 6,
   "metadata": {},
   "outputs": [],
   "source": [
    "mypath1 = 'D:/COPD/data/EX/normal_raw/'\n",
    "output_path = 'D:/COPD/data/EX/normal1/'\n",
    "files1 = [f for f in listdir(mypath1) if isfile(join(mypath1, f))]\n",
    "\n",
    "##Read Input Image\n",
    "for fname1 in sorted(files1):\n",
    "    try:\n",
    "        itk_image = sitk.ReadImage(mypath1+fname1)\n",
    "        image = sitk.GetArrayFromImage(itk_image)\n",
    "        image = resize(image, (64,64,64), preserve_range= np.int16, order=1)\n",
    "\n",
    "        image = sitk.GetImageFromArray(image)\n",
    "        sitk.WriteImage(image,output_path+\"{}\".format(fname1))\n",
    "            \n",
    "    except RuntimeError:\n",
    "        pass"
   ]
  },
  {
   "cell_type": "code",
   "execution_count": 3,
   "metadata": {},
   "outputs": [
    {
     "name": "stdout",
     "output_type": "stream",
     "text": [
      "CNN Image Shape : (140, 224, 224, 3)\n"
     ]
    }
   ],
   "source": [
    "############ Read 2D image\n",
    "mypath1 = 'D:/Ultrasound_Rotator/MuscleData/END3/train/tear3/'\n",
    "# mypath1 = 'D:/COPD/data/IN/NORMAL256/'\n",
    "files1 = [f for f in listdir(mypath1) if isfile(join(mypath1, f))]\n",
    "\n",
    "##Read Input Image\n",
    "CNN_data = []\n",
    "for fname1 in sorted(files1):\n",
    "    try:\n",
    "        itk_image = sitk.ReadImage(mypath1+fname1)\n",
    "        image = sitk.GetArrayFromImage(itk_image)\n",
    "        CNN_data.append(image)\n",
    "    except RuntimeError:\n",
    "        pass\n",
    "    \n",
    "print('CNN Image Shape : {}'.format(np.shape(CNN_data)))"
   ]
  },
  {
   "cell_type": "code",
   "execution_count": 12,
   "metadata": {
    "scrolled": true
   },
   "outputs": [
    {
     "name": "stdout",
     "output_type": "stream",
     "text": [
      "Befor COVID labels shape is (405,)\n",
      "After COVID labels shape is (1215,)\n"
     ]
    }
   ],
   "source": [
    "COVID = pd.read_csv(\"D:/Ultrasound_Rotator/MuscleData/tear3.csv\")\n",
    "COVID_labels = COVID.pop('Endpoint')\n",
    "COVID_labels=COVID_labels.values\n",
    "CNN_labels = []\n",
    "\n",
    "print(\"Befor COVID labels shape is {}\".format(COVID_labels.shape))\n",
    "\n",
    "for i in range(COVID_labels.shape[0]):\n",
    "    for j in range(3):\n",
    "        CNN_labels.append(COVID_labels[i])\n",
    "\n",
    "print(\"After COVID labels shape is {}\".format(np.shape(CNN_labels)))\n",
    "\n",
    "kfold = StratifiedKFold(n_splits=5, shuffle=True, random_state=10)"
   ]
  },
  {
   "cell_type": "code",
   "execution_count": 13,
   "metadata": {},
   "outputs": [],
   "source": [
    "######## Image Data & Lables save for learning\n",
    "\n",
    "with h5py.File('D:/final/Data_Lung_Segment_256.hdf5', 'w') as f:\n",
    "        data_CNN = f.create_group(\"Image_data\")\n",
    "        data_CNN.create_dataset(\"Image\",data = CNN_data)\n",
    "        labels_CNN = f.create_group(\"Labels_data\")\n",
    "        labels_CNN.create_dataset(\"Labels\", data=CNN_labels)\n",
    "        f.close()"
   ]
  },
  {
   "cell_type": "code",
   "execution_count": null,
   "metadata": {},
   "outputs": [],
   "source": []
  }
 ],
 "metadata": {
  "kernelspec": {
   "display_name": "Python 3",
   "language": "python",
   "name": "python3"
  },
  "language_info": {
   "codemirror_mode": {
    "name": "ipython",
    "version": 3
   },
   "file_extension": ".py",
   "mimetype": "text/x-python",
   "name": "python",
   "nbconvert_exporter": "python",
   "pygments_lexer": "ipython3",
   "version": "3.8.3"
  }
 },
 "nbformat": 4,
 "nbformat_minor": 2
}
