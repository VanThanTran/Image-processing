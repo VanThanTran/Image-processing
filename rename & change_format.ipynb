{
 "cells": [
  {
   "cell_type": "code",
   "execution_count": null,
   "id": "de1ed498",
   "metadata": {},
   "outputs": [],
   "source": [
    "#rename\n",
    "import os\n",
    "os.getcwd()\n",
    "\n",
    "path = \"C:/Users/USER/Downloads/test/masks1/\"\n",
    "file_type = \"jpg\"\n",
    "\n",
    "for i, filename in enumerate(os.listdir(path)):\n",
    "\n",
    "    i = str(i)\n",
    "\n",
    "    if len(i)==1:\n",
    "        i = \"000\"+i\n",
    "    elif len(i)==2:\n",
    "        i = \"00\"+i\n",
    "    elif len(i)==3:\n",
    "        i = \"0\"+i\n",
    "    else:\n",
    "        i = str(i)\n",
    "\n",
    "    os.rename(path + filename, path + str(i) + \".\" + file_type)"
   ]
  },
  {
   "cell_type": "code",
   "execution_count": 15,
   "id": "d93a036a",
   "metadata": {},
   "outputs": [],
   "source": [
    "# change format\n",
    "import cv2\n",
    "output_path = 'C:/Users/USER/Downloads/test/mask2/'\n",
    "for i in range(1, 2000):\n",
    "    try:\n",
    "        i = str(i)\n",
    "        number = i.zfill(4)\n",
    "        filename = 'C:/Users/USER/Downloads/test/masks1/{}.png'.format(number)\n",
    "        image = cv2.imread(filename)\n",
    "        image1 = np.asarray(image)\n",
    "        cv2.imwrite(output_path+\"{}.jpg\".format(number), image1)\n",
    "        \n",
    "\n",
    "    except RuntimeError:\n",
    "        pass"
   ]
  }
 ],
 "metadata": {
  "kernelspec": {
   "display_name": "Python 3 (ipykernel)",
   "language": "python",
   "name": "python3"
  },
  "language_info": {
   "codemirror_mode": {
    "name": "ipython",
    "version": 3
   },
   "file_extension": ".py",
   "mimetype": "text/x-python",
   "name": "python",
   "nbconvert_exporter": "python",
   "pygments_lexer": "ipython3",
   "version": "3.9.7"
  }
 },
 "nbformat": 4,
 "nbformat_minor": 5
}
