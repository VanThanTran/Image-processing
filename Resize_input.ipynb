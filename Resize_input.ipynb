{
 "cells": [
  {
   "cell_type": "code",
   "execution_count": 1,
   "metadata": {},
   "outputs": [],
   "source": [
    "import SimpleITK as sitk\n",
    "import matplotlib.pyplot as plt\n",
    "import numpy as np\n",
    "import sys\n",
    "import os\n",
    "from os import listdir\n",
    "from os.path import isfile, join\n",
    "import SimpleITK as sitk\n",
    "import h5py\n",
    "from skimage.transform import resize, rescale"
   ]
  },
  {
   "cell_type": "code",
   "execution_count": null,
   "metadata": {},
   "outputs": [],
   "source": [
    "import cv2\n",
    "mypath1 = 'C:/Users/USER/Downloads/HW_data/training/image/'\n",
    "output_path = 'C:/Users/USER/Downloads/HW_data/training2/image/'\n",
    "files1 = [f for f in listdir(mypath1) if isfile(join(mypath1, f))]\n",
    "\n",
    "##Read Input Image\n",
    "for fname1 in sorted(files1):\n",
    "    try:\n",
    "        itk_image = cv2.imread(mypath1+fname1)\n",
    "        image = np.asarray(itk_image)\n",
    "        image = resize(image, (128,128), preserve_range= True, order=0,  anti_aliasing = False)\n",
    "\n",
    "        image = np.asarray(image)\n",
    "        cv2.imwrite(output_path+\"{}\".format(fname1), image)\n",
    "            \n",
    "    except RuntimeError:\n",
    "        pass"
   ]
  },
  {
   "cell_type": "code",
   "execution_count": null,
   "metadata": {},
   "outputs": [],
   "source": []
  }
 ],
 "metadata": {
  "kernelspec": {
   "display_name": "Python 3",
   "language": "python",
   "name": "python3"
  },
  "language_info": {
   "codemirror_mode": {
    "name": "ipython",
    "version": 3
   },
   "file_extension": ".py",
   "mimetype": "text/x-python",
   "name": "python",
   "nbconvert_exporter": "python",
   "pygments_lexer": "ipython3",
   "version": "3.7.6"
  }
 },
 "nbformat": 4,
 "nbformat_minor": 2
}
